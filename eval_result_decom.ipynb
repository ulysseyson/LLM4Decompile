{
 "cells": [
  {
   "cell_type": "code",
   "execution_count": 1,
   "metadata": {},
   "outputs": [],
   "source": [
    "base = \"evaluation/decompile_result_base.json\"\n",
    "test_pair = \"evaluation/decompile_result_test_pair.json\"\n",
    "orig = \"decompile-eval/decompile-eval-executable-gcc-ghidra.json\""
   ]
  },
  {
   "cell_type": "code",
   "execution_count": 2,
   "metadata": {},
   "outputs": [],
   "source": [
    "import json\n",
    "\n",
    "with open(base, \"r\") as f:\n",
    "    base = json.load(f)\n",
    "\n",
    "with open(test_pair, \"r\") as f:\n",
    "    test_pair = json.load(f)\n",
    "with open(orig, \"r\") as f:\n",
    "    orig = json.load(f)"
   ]
  },
  {
   "cell_type": "code",
   "execution_count": 3,
   "metadata": {},
   "outputs": [],
   "source": [
    "import re"
   ]
  },
  {
   "cell_type": "code",
   "execution_count": 12,
   "metadata": {},
   "outputs": [],
   "source": [
    "def extract_assertions(func):\n",
    "    # Pattern to capture func0 call within an assert statement\n",
    "    pattern = re.compile(r\"assert\\s*\\(\\s*func0\\s*\\(([^)]+)\\)\\s*==\\s*(\\d+)\\s*\\);\")\n",
    "\n",
    "    # Find all assertions and store as (input_args_list, output_value) tuples\n",
    "    results = []\n",
    "    matches = pattern.findall(func)\n",
    "    for match in matches:\n",
    "        # Split function arguments and strip whitespace\n",
    "        args = match[0].split(\",\")\n",
    "        input_args_list = [arg.strip() for arg in args]\n",
    "\n",
    "        # Expected output is the second captured group\n",
    "        output_value = int(match[1])\n",
    "\n",
    "        # Append result as a tuple\n",
    "        results.append((input_args_list, output_value))\n",
    "\n",
    "    return results"
   ]
  },
  {
   "cell_type": "code",
   "execution_count": 4,
   "metadata": {},
   "outputs": [],
   "source": [
    "def extract_assertions_with_type_check(code):\n",
    "    # Patterns to capture array definitions and assert statements\n",
    "    array_pattern = re.compile(r\"float\\s+(\\w+)\\s*\\[\\]\\s*=\\s*\\{([^}]+)\\};\")\n",
    "    assert_pattern = re.compile(r\"assert\\s*\\(\\s*func0\\s*\\(([^)]+)\\)\\s*==\\s*(\\d+)\\s*\\);\")\n",
    "\n",
    "    # Dictionary to hold arrays by name\n",
    "    arrays = {}\n",
    "\n",
    "    # Find all array definitions\n",
    "    for array_match in array_pattern.findall(code):\n",
    "        array_name = array_match[0]\n",
    "        # Split and convert the values inside the braces to floats\n",
    "        array_values = [float(value.strip()) for value in array_match[1].split(\",\")]\n",
    "        arrays[array_name] = array_values\n",
    "\n",
    "    # Find all assertions and store as (input_args_list, output_value) tuples\n",
    "    results = []\n",
    "    for assert_match in assert_pattern.findall(code):\n",
    "        # Extract function arguments and initialize the input argument list\n",
    "        args = assert_match[0].split(\",\")\n",
    "        input_args_list = []\n",
    "\n",
    "        # Check each argument's type: if it's an array, replace it with its values\n",
    "        for arg in args:\n",
    "            arg = arg.strip()\n",
    "            if arg in arrays:  # Check if the argument is a defined array variable\n",
    "                input_args_list.append(arrays[arg])\n",
    "            else:\n",
    "                # Attempt to parse the argument as a literal (int or float)\n",
    "                try:\n",
    "                    if \".\" in arg:\n",
    "                        input_args_list.append(float(arg))\n",
    "                    else:\n",
    "                        input_args_list.append(int(arg))\n",
    "                except ValueError:\n",
    "                    # In case of unexpected format, add it as a string\n",
    "                    input_args_list.append(arg)\n",
    "\n",
    "        # Expected output as integer\n",
    "        output_value = int(assert_match[1])\n",
    "\n",
    "        # Append the input arguments and output as a tuple\n",
    "        results.append((input_args_list, output_value))\n",
    "\n",
    "    return results"
   ]
  },
  {
   "cell_type": "code",
   "execution_count": 21,
   "metadata": {},
   "outputs": [],
   "source": [
    "i=150"
   ]
  },
  {
   "cell_type": "code",
   "execution_count": 22,
   "metadata": {},
   "outputs": [
    {
     "name": "stdout",
     "output_type": "stream",
     "text": [
      "[]\n"
     ]
    }
   ],
   "source": [
    "print(extract_assertions_with_type_check(orig[i][\"c_test\"]))"
   ]
  },
  {
   "cell_type": "code",
   "execution_count": 23,
   "metadata": {},
   "outputs": [
    {
     "name": "stdout",
     "output_type": "stream",
     "text": [
      "[]\n"
     ]
    }
   ],
   "source": [
    "print(extract_assertions(orig[i][\"c_test\"]))"
   ]
  },
  {
   "cell_type": "code",
   "execution_count": 24,
   "metadata": {},
   "outputs": [
    {
     "name": "stdout",
     "output_type": "stream",
     "text": [
      "O2\n"
     ]
    }
   ],
   "source": [
    "print(orig[i][\"type\"])"
   ]
  },
  {
   "cell_type": "code",
   "execution_count": 25,
   "metadata": {},
   "outputs": [
    {
     "name": "stdout",
     "output_type": "stream",
     "text": [
      "#include <stdio.h>\n",
      "#include <assert.h>\n",
      "#include <math.h>\n",
      "\n",
      "\n",
      "int issame(float *a, float *b, int size) {\n",
      "    for (int i = 0; i < size; i++) {\n",
      "        if (fabs(a[i] - b[i]) > 1e-4) {\n",
      "            return 0;\n",
      "        }\n",
      "    }\n",
      "    return 1;\n",
      "}\n",
      "\n",
      "int main() {\n",
      "    float test1[] = {1, 2, 3};\n",
      "    float result1[3];\n",
      "    func0(test1, 3, result1);\n",
      "    float expected1[] = {1, 2, 3};\n",
      "    assert(issame(result1, expected1, 3));\n",
      "\n",
      "    float test2[] = {5, 3, -5, 2, -3, 3, 9, 0, 123, 1, -10};\n",
      "    float result2[11];\n",
      "    func0(test2, 11, result2);\n",
      "    float expected2[] = {-10, 3, -5, 2, -3, 3, 5, 0, 9, 1, 123};\n",
      "    assert(issame(result2, expected2, 11));\n",
      "\n",
      "    float test3[] = {5, 8, -12, 4, 23, 2, 3, 11, 12, -10};\n",
      "    float result3[10];\n",
      "    func0(test3, 10, result3);\n",
      "    float expected3[] = {-12, 8, 3, 4, 5, 2, 12, 11, 23, -10};\n",
      "    assert(issame(result3, expected3, 10));\n",
      "\n",
      "    return 0;\n",
      "}\n"
     ]
    }
   ],
   "source": [
    "print(orig[i][\"c_test\"])"
   ]
  },
  {
   "cell_type": "code",
   "execution_count": 20,
   "metadata": {},
   "outputs": [
    {
     "name": "stdout",
     "output_type": "stream",
     "text": [
      "#include <stdio.h>\n",
      "#include <string.h>\n",
      "#include <stdlib.h>\n",
      "\n",
      "void func0(char *s, int encode) {\n",
      "    int shift = encode ? 5 : 21;\n",
      "    size_t len = strlen(s);\n",
      "    for (size_t i = 0; i < len; i++) {\n",
      "        int w = ((s[i] - 'a' + shift) % 26) + 'a';\n",
      "        s[i] = (char)w;\n",
      "    }\n",
      "}\n"
     ]
    }
   ],
   "source": [
    "print(orig[i][\"c_func\"])"
   ]
  },
  {
   "cell_type": "code",
   "execution_count": 10,
   "metadata": {},
   "outputs": [
    {
     "name": "stdout",
     "output_type": "stream",
     "text": [
      "int func0(int param_1, int *param_2) {\n",
      "  int iVar1;\n",
      "  int *pvVar2 = malloc(0x100);\n",
      "  *param_2 = 0;\n",
      "  int local_1c = param_1;\n",
      "  int local_14;\n",
      "  \n",
      "  for (local_14 = 2; local_14 * local_14 <= local_1c; local_14++) {\n",
      "    while (local_1c % local_14 == 0) {\n",
      "      local_1c /= local_14;\n",
      "      iVar1 = *param_2;\n",
      "      *param_2 = iVar1 + 1;\n",
      "      *(int *)((long)iVar1 * 4 + (long)pvVar2) = local_14;\n",
      "    }\n",
      "  }\n",
      "  if (local_1c > 1) {\n",
      "    iVar1 = *param_2;\n",
      "    *param_2 = iVar1 + 1;\n",
      "    *(int *)((long)iVar1 * 4 + (long)pvVar2) = local_1c;\n",
      "  }\n",
      "  return pvVar2;\n",
      "}\n",
      "// Refined source code from given pseudo code\n",
      "#include <stdlib.h>\n",
      "\n",
      "int *func0(int n, int *prime_count) {\n",
      "    int *primes = (int *)malloc(n * sizeof(int));\n",
      "    *prime_count = 0;\n",
      "    int i = 2;\n",
      "    while (i * i <= n) {\n",
      "        while (n % i == 0) {\n",
      "            n /= i;\n",
      "            (*prime_count)++;\n",
      "            primes[*prime_count - 1] = i;\n",
      "        }\n",
      "        i++;\n",
      "    }\n",
      "    if (n > 1) {\n",
      "        (*prime_count)++;\n",
      "        primes[*prime_count - 1] = n;\n",
      "    }\n",
      "    return primes;\n",
      "}\n"
     ]
    }
   ],
   "source": [
    "print(base[i])\n",
    "print(test_pair[i])"
   ]
  },
  {
   "cell_type": "code",
   "execution_count": 9,
   "metadata": {},
   "outputs": [
    {
     "name": "stdout",
     "output_type": "stream",
     "text": [
      "int func0(float param_1, long param_2, int param_3) {\n",
      "  int local_10 = 0;\n",
      "  while (param_3 > local_10) {\n",
      "    int local_c = local_10;\n",
      "    if (param_3 <= local_10) {\n",
      "      return 0;\n",
      "    }\n",
      "    while (local_c < param_3) {\n",
      "      if ((float)(*(float *)(param_2 + local_10 * 4) - *(float *)(param_2 + local_c * 4)) < param_1) {\n",
      "        return 1;\n",
      "      }\n",
      "      local_c++;\n",
      "    }\n",
      "    local_10++;\n",
      "  }\n",
      "  return 0;\n",
      "}\n",
      "=====\n",
      "float func0(char *param_1,long param_2,float param_3)\n",
      "\n",
      "{\n",
      "  int i;\n",
      "  float diff;\n",
      "  \n",
      "  for (i = 0; i < strlen(param_1); i++) {\n",
      "    diff = *(float *)(param_2 + (long)i * 4) - *(float *)(param_2 + (long)(i + 1) * 4);\n",
      "    if (diff < param_3) {\n",
      "      return 1;\n",
      "    }\n",
      "  }\n",
      "  return 0;\n",
      "}\n"
     ]
    }
   ],
   "source": [
    "for b, t in zip(base, test_pair):\n",
    "    print(b)\n",
    "    print(\"=====\")\n",
    "    print(t)\n",
    "    \n",
    "    break"
   ]
  },
  {
   "cell_type": "code",
   "execution_count": null,
   "metadata": {},
   "outputs": [],
   "source": []
  }
 ],
 "metadata": {
  "kernelspec": {
   "display_name": "base",
   "language": "python",
   "name": "python3"
  },
  "language_info": {
   "codemirror_mode": {
    "name": "ipython",
    "version": 3
   },
   "file_extension": ".py",
   "mimetype": "text/x-python",
   "name": "python",
   "nbconvert_exporter": "python",
   "pygments_lexer": "ipython3",
   "version": "3.10.11"
  }
 },
 "nbformat": 4,
 "nbformat_minor": 2
}
